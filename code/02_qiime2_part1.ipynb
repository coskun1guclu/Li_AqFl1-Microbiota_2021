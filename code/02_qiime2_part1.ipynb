{
 "cells": [
  {
   "cell_type": "markdown",
   "metadata": {},
   "source": [
    "# Processing marker-gene data in QIIME2, part1\n",
    "\n",
    "**Environment:** qiime2-2020.11"
   ]
  },
  {
   "cell_type": "markdown",
   "metadata": {},
   "source": [
    "## How to use this notebook:\n",
    "1. Activate the `qiime2-2020.11` conda environment.\n",
    "    ```\n",
    "   source $HOME/miniconda3/bin/activate # use the path in your local machine to activate miniconda\n",
    "   conda activate qiime2-2020.11 # activate qiime2 conda environment\n",
    "    ```\n",
    "    \n",
    "2. Launch Jupyter notebook:\n",
    "    ```\n",
    "   jupyter notebook\n",
    "    ```  "
   ]
  },
  {
   "cell_type": "code",
   "execution_count": 1,
   "metadata": {},
   "outputs": [],
   "source": [
    "## Hide excessive warnings (optional):\n",
    "import warnings\n",
    "warnings.filterwarnings('ignore')"
   ]
  },
  {
   "cell_type": "code",
   "execution_count": 2,
   "metadata": {},
   "outputs": [
    {
     "name": "stdout",
     "output_type": "stream",
     "text": [
      "/media/md0/nutrition_group Dropbox/projects/yanxian/AqFl1_microbiota\n"
     ]
    }
   ],
   "source": [
    "## change working directory to the project root directory\n",
    "%cd .."
   ]
  },
  {
   "cell_type": "markdown",
   "metadata": {},
   "source": [
    "##  Import feature table and representative sequences from dada2"
   ]
  },
  {
   "cell_type": "markdown",
   "metadata": {},
   "source": [
    "###  Run1"
   ]
  },
  {
   "cell_type": "code",
   "execution_count": 3,
   "metadata": {
    "scrolled": true
   },
   "outputs": [
    {
     "name": "stdout",
     "output_type": "stream",
     "text": [
      "\u001b[32mImported data/intermediate/dada2/table-run1.biom as BIOMV100Format to data/intermediate/qiime2/asv/table-run1.qza\u001b[0m\n",
      "\u001b[32mImported data/intermediate/dada2/rep-seqs-run1.fna as DNASequencesDirectoryFormat to data/intermediate/qiime2/asv/rep-seqs-run1.qza\u001b[0m\n"
     ]
    }
   ],
   "source": [
    "# Import feature table\n",
    "!qiime tools import \\\n",
    "  --input-path data/intermediate/dada2/table-run1.biom \\\n",
    "  --type 'FeatureTable[Frequency]' \\\n",
    "  --input-format BIOMV100Format \\\n",
    "  --output-path data/intermediate/qiime2/asv/table-run1.qza\n",
    "\n",
    "# Import representative sequences\n",
    "!qiime tools import \\\n",
    "  --input-path data/intermediate/dada2/rep-seqs-run1.fna \\\n",
    "  --type 'FeatureData[Sequence]' \\\n",
    "  --output-path data/intermediate/qiime2/asv/rep-seqs-run1.qza"
   ]
  },
  {
   "cell_type": "markdown",
   "metadata": {},
   "source": [
    "###  Run2"
   ]
  },
  {
   "cell_type": "code",
   "execution_count": 4,
   "metadata": {},
   "outputs": [
    {
     "name": "stdout",
     "output_type": "stream",
     "text": [
      "\u001b[32mImported data/intermediate/dada2/table-run2.biom as BIOMV100Format to data/intermediate/qiime2/asv/table-run2.qza\u001b[0m\n",
      "\u001b[32mImported data/intermediate/dada2/rep-seqs-run2.fna as DNASequencesDirectoryFormat to data/intermediate/qiime2/asv/rep-seqs-run2.qza\u001b[0m\n"
     ]
    }
   ],
   "source": [
    "# Import feature table\n",
    "!qiime tools import \\\n",
    "  --input-path data/intermediate/dada2/table-run2.biom \\\n",
    "  --type 'FeatureTable[Frequency]' \\\n",
    "  --input-format BIOMV100Format \\\n",
    "  --output-path data/intermediate/qiime2/asv/table-run2.qza\n",
    "\n",
    "# Import representative sequences\n",
    "!qiime tools import \\\n",
    "  --input-path data/intermediate/dada2/rep-seqs-run2.fna \\\n",
    "  --type 'FeatureData[Sequence]' \\\n",
    "  --output-path data/intermediate/qiime2/asv/rep-seqs-run2.qza"
   ]
  },
  {
   "cell_type": "markdown",
   "metadata": {},
   "source": [
    "##  Merge feature table and representative sequences  "
   ]
  },
  {
   "cell_type": "code",
   "execution_count": 5,
   "metadata": {},
   "outputs": [
    {
     "name": "stdout",
     "output_type": "stream",
     "text": [
      "\u001b[32mSaved FeatureTable[Frequency] to: data/intermediate/qiime2/asv/table.qza\u001b[0m\n",
      "\u001b[32mSaved FeatureData[Sequence] to: data/intermediate/qiime2/asv/rep-seqs.qza\u001b[0m\n"
     ]
    }
   ],
   "source": [
    "# merge feature table\n",
    "!qiime feature-table merge \\\n",
    "  --i-tables data/intermediate/qiime2/asv/table-run1.qza \\\n",
    "  --i-tables data/intermediate/qiime2/asv/table-run2.qza \\\n",
    "  --p-overlap-method error_on_overlapping_sample \\\n",
    "  --o-merged-table data/intermediate/qiime2/asv/table.qza\n",
    "\n",
    "# merge representative sequences\n",
    "!qiime feature-table merge-seqs \\\n",
    "  --i-data data/intermediate/qiime2/asv/rep-seqs-run1.qza \\\n",
    "  --i-data data/intermediate/qiime2/asv/rep-seqs-run2.qza \\\n",
    "  --o-merged-data data/intermediate/qiime2/asv/rep-seqs.qza"
   ]
  },
  {
   "cell_type": "markdown",
   "metadata": {},
   "source": [
    "##  Visualize the merged feature table and representative sequences  "
   ]
  },
  {
   "cell_type": "code",
   "execution_count": 6,
   "metadata": {
    "scrolled": true
   },
   "outputs": [
    {
     "name": "stdout",
     "output_type": "stream",
     "text": [
      "\u001b[32mSaved Visualization to: data/intermediate/qiime2/asv/table.qzv\u001b[0m\n",
      "\u001b[32mSaved Visualization to: data/intermediate/qiime2/asv/rep-seqs.qzv\u001b[0m\n"
     ]
    }
   ],
   "source": [
    "# visualize feature table\n",
    "!qiime feature-table summarize \\\n",
    "  --i-table data/intermediate/qiime2/asv/table.qza \\\n",
    "  --m-sample-metadata-file data/metadata.tsv \\\n",
    "  --o-visualization data/intermediate/qiime2/asv/table.qzv \n",
    "\n",
    "# visualize representative sequences\n",
    "!qiime feature-table tabulate-seqs \\\n",
    "  --i-data data/intermediate/qiime2/asv/rep-seqs.qza \\\n",
    "  --o-visualization data/intermediate/qiime2/asv/rep-seqs.qzv"
   ]
  },
  {
   "cell_type": "markdown",
   "metadata": {},
   "source": [
    "## Taxonomic  assignment"
   ]
  },
  {
   "cell_type": "markdown",
   "metadata": {},
   "source": [
    "### Import reference sequence and taxonomy to train the feature-classifier"
   ]
  },
  {
   "cell_type": "code",
   "execution_count": 7,
   "metadata": {},
   "outputs": [
    {
     "name": "stdout",
     "output_type": "stream",
     "text": [
      "\u001b[32mImported data/reference/silva_132_99_16S.fna as DNASequencesDirectoryFormat to data/intermediate/qiime2/asv/99-otus-silva132.qza\u001b[0m\n",
      "\u001b[32mImported data/reference/silva_132_consensus_taxonomy_l7.txt as HeaderlessTSVTaxonomyFormat to data/intermediate/qiime2/asv/ref-taxonomy-silva132.qza\u001b[0m\n"
     ]
    }
   ],
   "source": [
    "!qiime tools import \\\n",
    "  --type 'FeatureData[Sequence]' \\\n",
    "  --input-path data/reference/silva_132_99_16S.fna \\\n",
    "  --output-path data/intermediate/qiime2/asv/99-otus-silva132.qza\n",
    "\n",
    "!qiime tools import \\\n",
    "  --type 'FeatureData[Taxonomy]' \\\n",
    "  --input-format HeaderlessTSVTaxonomyFormat \\\n",
    "  --input-path data/reference/silva_132_consensus_taxonomy_l7.txt \\\n",
    "  --output-path data/intermediate/qiime2/asv/ref-taxonomy-silva132.qza"
   ]
  },
  {
   "cell_type": "markdown",
   "metadata": {},
   "source": [
    "### Extract V1-2 reference reads"
   ]
  },
  {
   "cell_type": "code",
   "execution_count": 8,
   "metadata": {},
   "outputs": [
    {
     "name": "stdout",
     "output_type": "stream",
     "text": [
      "\u001b[32mSaved FeatureData[Sequence] to: data/intermediate/qiime2/asv/ref-seqs-silva132.qza\u001b[0m\n",
      "CPU times: user 12.2 s, sys: 1.69 s, total: 13.9 s\n",
      "Wall time: 12min 34s\n"
     ]
    }
   ],
   "source": [
    "%%time\n",
    "!qiime feature-classifier extract-reads \\\n",
    "  --i-sequences data/intermediate/qiime2/asv/99-otus-silva132.qza \\\n",
    "  --p-f-primer AGAGTTTGATCMTGGCTCAG \\\n",
    "  --p-r-primer GCWGCCWCCCGTAGGWGT \\\n",
    "  --p-n-jobs 16 \\\n",
    "  --o-reads data/intermediate/qiime2/asv/ref-seqs-silva132.qza"
   ]
  },
  {
   "cell_type": "markdown",
   "metadata": {},
   "source": [
    "### Train the feature classifier"
   ]
  },
  {
   "cell_type": "code",
   "execution_count": 9,
   "metadata": {},
   "outputs": [
    {
     "name": "stdout",
     "output_type": "stream",
     "text": [
      "\u001b[32mSaved TaxonomicClassifier to: data/intermediate/qiime2/asv/silva132-99otu-27-338-classifier.qza\u001b[0m\n",
      "CPU times: user 29.9 s, sys: 5.68 s, total: 35.5 s\n",
      "Wall time: 23min 36s\n"
     ]
    }
   ],
   "source": [
    "%%time\n",
    "!qiime feature-classifier fit-classifier-naive-bayes \\\n",
    "  --i-reference-reads data/intermediate/qiime2/asv/ref-seqs-silva132.qza \\\n",
    "  --i-reference-taxonomy data/intermediate/qiime2/asv/ref-taxonomy-silva132.qza \\\n",
    "  --o-classifier data/intermediate/qiime2/asv/silva132-99otu-27-338-classifier.qza"
   ]
  },
  {
   "cell_type": "markdown",
   "metadata": {},
   "source": [
    "### Assign taxonomy  using the trained featureClassifier"
   ]
  },
  {
   "cell_type": "code",
   "execution_count": 10,
   "metadata": {},
   "outputs": [
    {
     "name": "stdout",
     "output_type": "stream",
     "text": [
      "\u001b[32mSaved FeatureData[Taxonomy] to: data/intermediate/qiime2/asv/taxonomy-silva132.qza\u001b[0m\n",
      "CPU times: user 6.85 s, sys: 1.01 s, total: 7.86 s\n",
      "Wall time: 6min 10s\n"
     ]
    }
   ],
   "source": [
    "%%time\n",
    "!qiime feature-classifier classify-sklearn \\\n",
    "  --i-classifier data/intermediate/qiime2/asv/silva132-99otu-27-338-classifier.qza \\\n",
    "  --i-reads data/intermediate/qiime2/asv/rep-seqs.qza \\\n",
    "  --p-n-jobs 16 \\\n",
    "  --o-classification data/intermediate/qiime2/asv/taxonomy-silva132.qza"
   ]
  },
  {
   "cell_type": "markdown",
   "metadata": {},
   "source": [
    "### Visualize taxonomy "
   ]
  },
  {
   "cell_type": "code",
   "execution_count": 11,
   "metadata": {},
   "outputs": [
    {
     "name": "stdout",
     "output_type": "stream",
     "text": [
      "\u001b[32mSaved Visualization to: data/intermediate/qiime2/asv/taxonomy-silva132.qzv\u001b[0m\n",
      "\u001b[32mSaved Visualization to: data/intermediate/qiime2/asv/taxa-bar-plots.qzv\u001b[0m\n"
     ]
    }
   ],
   "source": [
    "# taxonomy file\n",
    "!qiime metadata tabulate \\\n",
    "  --m-input-file data/intermediate/qiime2/asv/taxonomy-silva132.qza \\\n",
    "  --o-visualization data/intermediate/qiime2/asv/taxonomy-silva132.qzv\n",
    "\n",
    "# taxonomic barplot\n",
    "!qiime taxa barplot \\\n",
    "  --i-table data/intermediate/qiime2/asv/table.qza \\\n",
    "  --i-taxonomy data/intermediate/qiime2/asv/taxonomy-silva132.qza \\\n",
    "  --m-metadata-file data/metadata.tsv \\\n",
    "  --o-visualization data/intermediate/qiime2/asv/taxa-bar-plots.qzv"
   ]
  }
 ],
 "metadata": {
  "kernelspec": {
   "display_name": "Python 3",
   "language": "python",
   "name": "python3"
  },
  "language_info": {
   "codemirror_mode": {
    "name": "ipython",
    "version": 3
   },
   "file_extension": ".py",
   "mimetype": "text/x-python",
   "name": "python",
   "nbconvert_exporter": "python",
   "pygments_lexer": "ipython3",
   "version": "3.6.12"
  }
 },
 "nbformat": 4,
 "nbformat_minor": 4
}
