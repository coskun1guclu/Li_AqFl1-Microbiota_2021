{
 "cells": [
  {
   "cell_type": "markdown",
   "metadata": {},
   "source": [
    "# Processing marker-gene data in QIIME2, part3\n",
    "\n",
    "**Environment:** qiime2-2020.11"
   ]
  },
  {
   "cell_type": "markdown",
   "metadata": {},
   "source": [
    "## How to use this notebook:\n",
    "1. Activate the `qiime2-2020.11` conda environment.\n",
    "    ```\n",
    "   source $HOME/miniconda3/bin/activate # use the path in your local machine to activate miniconda\n",
    "   conda activate qiime2-2020.11 # activate qiime2 conda environment\n",
    "    ```\n",
    "2. Install additional dependencies:\n",
    "    ```\n",
    "   conda install -c conda-forge deicode\n",
    "   qiime dev refresh-cache\n",
    "    ```  \n",
    "\n",
    "3. Restart and run the notebook:\n",
    "    ```\n",
    "   jupyter notebook\n",
    "    ```\n",
    "      "
   ]
  },
  {
   "cell_type": "code",
   "execution_count": 1,
   "metadata": {},
   "outputs": [],
   "source": [
    "## Hide excessive warnings (optional):\n",
    "import warnings\n",
    "warnings.filterwarnings('ignore')"
   ]
  },
  {
   "cell_type": "code",
   "execution_count": 2,
   "metadata": {},
   "outputs": [
    {
     "name": "stdout",
     "output_type": "stream",
     "text": [
      "/media/md0/nutrition_group Dropbox/projects/yanxian/Li_AqFl1-Microbiota_2021\n"
     ]
    }
   ],
   "source": [
    "## change working directory to the project root directory\n",
    "%cd .."
   ]
  },
  {
   "cell_type": "markdown",
   "metadata": {},
   "source": [
    "## Filter feature table"
   ]
  },
  {
   "cell_type": "code",
   "execution_count": 3,
   "metadata": {},
   "outputs": [
    {
     "name": "stdout",
     "output_type": "stream",
     "text": [
      "\u001b[32mSaved FeatureTable[Frequency] to: data/intermediate/qiime2/97otu/table-filtered-97otu-sepp-inserted-digesta-no-control.qza\u001b[0m\n",
      "\u001b[32mSaved FeatureTable[Frequency] to: data/intermediate/qiime2/97otu/table-filtered-97otu-sepp-inserted-mucosa-feed-water-no-control.qza\u001b[0m\n"
     ]
    }
   ],
   "source": [
    "!qiime feature-table filter-samples \\\n",
    "  --i-table data/intermediate/qiime2/97otu/table-filtered-97otu-sepp-inserted-no-control.qza \\\n",
    "  --m-metadata-file data/metadata.tsv \\\n",
    "  --p-where \"PCRBatch='1'\" \\\n",
    "  --o-filtered-table data/intermediate/qiime2/97otu/table-filtered-97otu-sepp-inserted-digesta-no-control.qza\n",
    "\n",
    "!qiime feature-table filter-samples \\\n",
    "  --i-table data/intermediate/qiime2/97otu/table-filtered-97otu-sepp-inserted-no-control.qza \\\n",
    "  --m-metadata-file data/metadata.tsv \\\n",
    "  --p-where \"Source IN ('Mucosa', 'Feed', 'Water')\" \\\n",
    "  --o-filtered-table data/intermediate/qiime2/97otu/table-filtered-97otu-sepp-inserted-mucosa-feed-water-no-control.qza"
   ]
  },
  {
   "cell_type": "markdown",
   "metadata": {},
   "source": [
    "## Beta diversity analysis"
   ]
  },
  {
   "cell_type": "markdown",
   "metadata": {},
   "source": [
    "### Core metric results"
   ]
  },
  {
   "cell_type": "markdown",
   "metadata": {},
   "source": [
    "#### Digesta samples"
   ]
  },
  {
   "cell_type": "code",
   "execution_count": 4,
   "metadata": {},
   "outputs": [
    {
     "name": "stdout",
     "output_type": "stream",
     "text": [
      "\u001b[32mSaved FeatureTable[Frequency] to: data/intermediate/qiime2/97otu/core-metrics-results-digesta/rarefied_table.qza\u001b[0m\n",
      "\u001b[32mSaved SampleData[AlphaDiversity] to: data/intermediate/qiime2/97otu/core-metrics-results-digesta/faith_pd_vector.qza\u001b[0m\n",
      "\u001b[32mSaved SampleData[AlphaDiversity] to: data/intermediate/qiime2/97otu/core-metrics-results-digesta/observed_features_vector.qza\u001b[0m\n",
      "\u001b[32mSaved SampleData[AlphaDiversity] to: data/intermediate/qiime2/97otu/core-metrics-results-digesta/shannon_vector.qza\u001b[0m\n",
      "\u001b[32mSaved SampleData[AlphaDiversity] to: data/intermediate/qiime2/97otu/core-metrics-results-digesta/evenness_vector.qza\u001b[0m\n",
      "\u001b[32mSaved DistanceMatrix to: data/intermediate/qiime2/97otu/core-metrics-results-digesta/unweighted_unifrac_distance_matrix.qza\u001b[0m\n",
      "\u001b[32mSaved DistanceMatrix to: data/intermediate/qiime2/97otu/core-metrics-results-digesta/weighted_unifrac_distance_matrix.qza\u001b[0m\n",
      "\u001b[32mSaved DistanceMatrix to: data/intermediate/qiime2/97otu/core-metrics-results-digesta/jaccard_distance_matrix.qza\u001b[0m\n",
      "\u001b[32mSaved DistanceMatrix to: data/intermediate/qiime2/97otu/core-metrics-results-digesta/bray_curtis_distance_matrix.qza\u001b[0m\n",
      "\u001b[32mSaved PCoAResults to: data/intermediate/qiime2/97otu/core-metrics-results-digesta/unweighted_unifrac_pcoa_results.qza\u001b[0m\n",
      "\u001b[32mSaved PCoAResults to: data/intermediate/qiime2/97otu/core-metrics-results-digesta/weighted_unifrac_pcoa_results.qza\u001b[0m\n",
      "\u001b[32mSaved PCoAResults to: data/intermediate/qiime2/97otu/core-metrics-results-digesta/jaccard_pcoa_results.qza\u001b[0m\n",
      "\u001b[32mSaved PCoAResults to: data/intermediate/qiime2/97otu/core-metrics-results-digesta/bray_curtis_pcoa_results.qza\u001b[0m\n",
      "\u001b[32mSaved Visualization to: data/intermediate/qiime2/97otu/core-metrics-results-digesta/unweighted_unifrac_emperor.qzv\u001b[0m\n",
      "\u001b[32mSaved Visualization to: data/intermediate/qiime2/97otu/core-metrics-results-digesta/weighted_unifrac_emperor.qzv\u001b[0m\n",
      "\u001b[32mSaved Visualization to: data/intermediate/qiime2/97otu/core-metrics-results-digesta/jaccard_emperor.qzv\u001b[0m\n",
      "\u001b[32mSaved Visualization to: data/intermediate/qiime2/97otu/core-metrics-results-digesta/bray_curtis_emperor.qzv\u001b[0m\n"
     ]
    }
   ],
   "source": [
    "!qiime diversity core-metrics-phylogenetic \\\n",
    "  --i-phylogeny data/intermediate/qiime2/97otu/insertion-tree-97otu.qza \\\n",
    "  --i-table data/intermediate/qiime2/97otu/table-filtered-97otu-sepp-inserted-digesta-no-control.qza \\\n",
    "  --m-metadata-file data/metadata.tsv \\\n",
    "  --p-sampling-depth 10345 \\\n",
    "  --output-dir data/intermediate/qiime2/97otu/core-metrics-results-digesta"
   ]
  },
  {
   "cell_type": "markdown",
   "metadata": {},
   "source": [
    "#### Mucosa, feed and water samples"
   ]
  },
  {
   "cell_type": "code",
   "execution_count": 5,
   "metadata": {},
   "outputs": [
    {
     "name": "stdout",
     "output_type": "stream",
     "text": [
      "\u001b[32mSaved FeatureTable[Frequency] to: data/intermediate/qiime2/97otu/core-metrics-results-mucosa-feed-water/rarefied_table.qza\u001b[0m\n",
      "\u001b[32mSaved SampleData[AlphaDiversity] to: data/intermediate/qiime2/97otu/core-metrics-results-mucosa-feed-water/faith_pd_vector.qza\u001b[0m\n",
      "\u001b[32mSaved SampleData[AlphaDiversity] to: data/intermediate/qiime2/97otu/core-metrics-results-mucosa-feed-water/observed_features_vector.qza\u001b[0m\n",
      "\u001b[32mSaved SampleData[AlphaDiversity] to: data/intermediate/qiime2/97otu/core-metrics-results-mucosa-feed-water/shannon_vector.qza\u001b[0m\n",
      "\u001b[32mSaved SampleData[AlphaDiversity] to: data/intermediate/qiime2/97otu/core-metrics-results-mucosa-feed-water/evenness_vector.qza\u001b[0m\n",
      "\u001b[32mSaved DistanceMatrix to: data/intermediate/qiime2/97otu/core-metrics-results-mucosa-feed-water/unweighted_unifrac_distance_matrix.qza\u001b[0m\n",
      "\u001b[32mSaved DistanceMatrix to: data/intermediate/qiime2/97otu/core-metrics-results-mucosa-feed-water/weighted_unifrac_distance_matrix.qza\u001b[0m\n",
      "\u001b[32mSaved DistanceMatrix to: data/intermediate/qiime2/97otu/core-metrics-results-mucosa-feed-water/jaccard_distance_matrix.qza\u001b[0m\n",
      "\u001b[32mSaved DistanceMatrix to: data/intermediate/qiime2/97otu/core-metrics-results-mucosa-feed-water/bray_curtis_distance_matrix.qza\u001b[0m\n",
      "\u001b[32mSaved PCoAResults to: data/intermediate/qiime2/97otu/core-metrics-results-mucosa-feed-water/unweighted_unifrac_pcoa_results.qza\u001b[0m\n",
      "\u001b[32mSaved PCoAResults to: data/intermediate/qiime2/97otu/core-metrics-results-mucosa-feed-water/weighted_unifrac_pcoa_results.qza\u001b[0m\n",
      "\u001b[32mSaved PCoAResults to: data/intermediate/qiime2/97otu/core-metrics-results-mucosa-feed-water/jaccard_pcoa_results.qza\u001b[0m\n",
      "\u001b[32mSaved PCoAResults to: data/intermediate/qiime2/97otu/core-metrics-results-mucosa-feed-water/bray_curtis_pcoa_results.qza\u001b[0m\n",
      "\u001b[32mSaved Visualization to: data/intermediate/qiime2/97otu/core-metrics-results-mucosa-feed-water/unweighted_unifrac_emperor.qzv\u001b[0m\n",
      "\u001b[32mSaved Visualization to: data/intermediate/qiime2/97otu/core-metrics-results-mucosa-feed-water/weighted_unifrac_emperor.qzv\u001b[0m\n",
      "\u001b[32mSaved Visualization to: data/intermediate/qiime2/97otu/core-metrics-results-mucosa-feed-water/jaccard_emperor.qzv\u001b[0m\n",
      "\u001b[32mSaved Visualization to: data/intermediate/qiime2/97otu/core-metrics-results-mucosa-feed-water/bray_curtis_emperor.qzv\u001b[0m\n"
     ]
    }
   ],
   "source": [
    "!qiime diversity core-metrics-phylogenetic \\\n",
    "  --i-phylogeny data/intermediate/qiime2/97otu/insertion-tree-97otu.qza \\\n",
    "  --i-table data/intermediate/qiime2/97otu/table-filtered-97otu-sepp-inserted-mucosa-feed-water-no-control.qza \\\n",
    "  --m-metadata-file data/metadata.tsv \\\n",
    "  --p-sampling-depth 10345 \\\n",
    "  --output-dir data/intermediate/qiime2/97otu/core-metrics-results-mucosa-feed-water"
   ]
  },
  {
   "cell_type": "markdown",
   "metadata": {},
   "source": [
    "### Robust Aitchison PCA "
   ]
  },
  {
   "cell_type": "markdown",
   "metadata": {},
   "source": [
    "#### Digesta samples"
   ]
  },
  {
   "cell_type": "code",
   "execution_count": 6,
   "metadata": {},
   "outputs": [
    {
     "name": "stdout",
     "output_type": "stream",
     "text": [
      "\u001b[32mSaved PCoAResults % Properties('biplot') to: data/intermediate/qiime2/97otu/robust-Aitchison-pca-digesta/biplot.qza\u001b[0m\n",
      "\u001b[32mSaved DistanceMatrix to: data/intermediate/qiime2/97otu/robust-Aitchison-pca-digesta/distance_matrix.qza\u001b[0m\n",
      "\u001b[32mSaved Visualization to: data/intermediate/qiime2/97otu/robust-Aitchison-pca-digesta/biplot.qzv\u001b[0m\n"
     ]
    }
   ],
   "source": [
    "!qiime deicode rpca \\\n",
    "  --i-table data/intermediate/qiime2/97otu/table-filtered-97otu-sepp-inserted-digesta-no-control.qza \\\n",
    "  --p-min-feature-count 10 \\\n",
    "  --p-min-sample-count 1000 \\\n",
    "  --output-dir data/intermediate/qiime2/97otu/robust-Aitchison-pca-digesta\n",
    "\n",
    "!qiime emperor biplot \\\n",
    "  --i-biplot data/intermediate/qiime2/97otu/robust-Aitchison-pca-digesta/biplot.qza \\\n",
    "  --m-sample-metadata-file data/metadata.tsv \\\n",
    "  --m-feature-metadata-file data/intermediate/qiime2/asv/taxonomy-silva132.qza \\\n",
    "  --o-visualization data/intermediate/qiime2/97otu/robust-Aitchison-pca-digesta/biplot.qzv \\\n",
    "  --p-number-of-features 8"
   ]
  },
  {
   "cell_type": "markdown",
   "metadata": {},
   "source": [
    "#### Mucosa, feed and water samples"
   ]
  },
  {
   "cell_type": "code",
   "execution_count": 7,
   "metadata": {},
   "outputs": [
    {
     "name": "stdout",
     "output_type": "stream",
     "text": [
      "\u001b[32mSaved PCoAResults % Properties('biplot') to: data/intermediate/qiime2/97otu/robust-Aitchison-pca-mucosa-feed-water/biplot.qza\u001b[0m\n",
      "\u001b[32mSaved DistanceMatrix to: data/intermediate/qiime2/97otu/robust-Aitchison-pca-mucosa-feed-water/distance_matrix.qza\u001b[0m\n",
      "\u001b[32mSaved Visualization to: data/intermediate/qiime2/97otu/robust-Aitchison-pca-mucosa-feed-water/biplot.qzv\u001b[0m\n"
     ]
    }
   ],
   "source": [
    "!qiime deicode rpca \\\n",
    "  --i-table data/intermediate/qiime2/97otu/table-filtered-97otu-sepp-inserted-mucosa-feed-water-no-control.qza \\\n",
    "  --p-min-feature-count 10 \\\n",
    "  --p-min-sample-count 1000 \\\n",
    "  --output-dir data/intermediate/qiime2/97otu/robust-Aitchison-pca-mucosa-feed-water\n",
    "\n",
    "!qiime emperor biplot \\\n",
    "  --i-biplot data/intermediate/qiime2/97otu/robust-Aitchison-pca-mucosa-feed-water/biplot.qza \\\n",
    "  --m-sample-metadata-file data/metadata.tsv \\\n",
    "  --m-feature-metadata-file data/intermediate/qiime2/asv/taxonomy-silva132.qza \\\n",
    "  --o-visualization data/intermediate/qiime2/97otu/robust-Aitchison-pca-mucosa-feed-water/biplot.qzv \\\n",
    "  --p-number-of-features 8"
   ]
  }
 ],
 "metadata": {
  "kernelspec": {
   "display_name": "Python 3",
   "language": "python",
   "name": "python3"
  },
  "language_info": {
   "codemirror_mode": {
    "name": "ipython",
    "version": 3
   },
   "file_extension": ".py",
   "mimetype": "text/x-python",
   "name": "python",
   "nbconvert_exporter": "python",
   "pygments_lexer": "ipython3",
   "version": "3.6.12"
  }
 },
 "nbformat": 4,
 "nbformat_minor": 4
}
