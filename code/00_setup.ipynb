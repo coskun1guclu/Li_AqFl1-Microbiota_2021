{
 "cells": [
  {
   "cell_type": "markdown",
   "metadata": {},
   "source": [
    "# Setup\n",
    "**Environment:** qiime2-2020.11"
   ]
  },
  {
   "cell_type": "markdown",
   "metadata": {},
   "source": [
    "## How to use this notebook:\n",
    "1. Activate the `qiime2-2020.11` conda environment.\n",
    "    ```\n",
    "   source $HOME/miniconda3/bin/activate # use the path in your local machine to activate miniconda\n",
    "   conda activate qiime2-2020.11 # activate qiime2 conda environment\n",
    "    ```\n",
    "2. Launch Jupyter notebook:\n",
    "    ```\n",
    "   jupyter notebook\n",
    "    ```  "
   ]
  },
  {
   "cell_type": "code",
   "execution_count": null,
   "metadata": {},
   "outputs": [],
   "source": [
    "## change working directory to the project root directory\n",
    "%cd .."
   ]
  },
  {
   "cell_type": "markdown",
   "metadata": {},
   "source": [
    "##  Download raw sequence data from NCBI SRA database"
   ]
  },
  {
   "cell_type": "markdown",
   "metadata": {},
   "source": [
    "###  Download sequence using grabseqs"
   ]
  },
  {
   "cell_type": "markdown",
   "metadata": {},
   "source": [
    "####  Run1"
   ]
  },
  {
   "cell_type": "code",
   "execution_count": null,
   "metadata": {},
   "outputs": [],
   "source": [
    "grabseqs sra PRJNA****** ERR****** -m metadata.csv -o data/raw/casava-18-paired-end-demultiplexed-run1/ -r 3 -l "
   ]
  },
  {
   "cell_type": "markdown",
   "metadata": {},
   "source": [
    "####  Run2"
   ]
  },
  {
   "cell_type": "code",
   "execution_count": null,
   "metadata": {},
   "outputs": [],
   "source": [
    "grabseqs sra PRJNA****** ERR****** -m metadata.csv -o data/raw/casava-18-paired-end-demultiplexed-run2/ -r 3 -l "
   ]
  },
  {
   "cell_type": "markdown",
   "metadata": {},
   "source": [
    "### Rename downloaded fastq files"
   ]
  },
  {
   "cell_type": "markdown",
   "metadata": {},
   "source": [
    "####  Run1"
   ]
  },
  {
   "cell_type": "code",
   "execution_count": null,
   "metadata": {},
   "outputs": [],
   "source": [
    "# get the absolute file path of SRA fastq files\n",
    "fq1 <- list.files(\"data/raw/casava-18-paired-end-demultiplexed-run1\", full.names = TRUE)\n",
    "\n",
    "# read in SRA metadata\n",
    "mtd1 <- read.csv(\"data/raw/casava-18-paired-end-demultiplexed-run1/metadata.csv\")\n",
    "\n",
    "# make a lookup table for renaming fastq files\n",
    "names1 <- mtd1[, c(\"Run\", \"SampleName\")]\n",
    "\n",
    "## duplicate samples (rows) to match pair-ended reads\n",
    "names1[rep(seq_len(nrow(mtd1)), each = 2), ]\n",
    "\n",
    "## forward and reverse read id\n",
    "names1$Index <- rep(1:2, nrow(mtd1))\n",
    "\n",
    "## SRA fastq file names\n",
    "names1$Run <- paste0(dirname(fq1[1]), \"/\", mtd1$Run, \"_\", mtd1$Index, \".fastq.gz\") \n",
    "\n",
    "## original fastq file names used for the data analysis\n",
    "names1$SampleName <- paste0(dirname(fq1[1]), \"/\", mtd1$SampleName, \"_R\", mtd1$Index, \"_001.fastq.gz\") \n",
    "\n",
    "# replace SRA fastq file names with original fastq file names\n",
    "file.rename(from = names1[[\"Run\"]], to = names1[[\"SampleName\"]])"
   ]
  },
  {
   "cell_type": "markdown",
   "metadata": {},
   "source": [
    "####  Run2"
   ]
  },
  {
   "cell_type": "code",
   "execution_count": null,
   "metadata": {},
   "outputs": [],
   "source": [
    "# get the absolute file path of SRA fastq files\n",
    "fq2 <- list.files(\"data/raw/casava-18-paired-end-demultiplexed-run2\", full.names = TRUE)\n",
    "\n",
    "# read in SRA metadata\n",
    "mtd2 <- read.csv(\"data/raw/casava-18-paired-end-demultiplexed-run2/metadata.csv\")\n",
    "\n",
    "# make a lookup table for renaming fastq files\n",
    "names2 <- mtd2[, c(\"Run\", \"SampleName\")]\n",
    "names2[rep(seq_len(nrow(mtd2)), each = 2), ]\n",
    "names2$Index      <- rep(1:2, nrow(mtd2))\n",
    "names2$Run        <- paste0(dirname(fq2[1]), \"/\", mtd2$Run, \"_\", mtd2$Index, \".fastq.gz\")\n",
    "names2$SampleName <- paste0(dirname(fq2[1]), \"/\", mtd2$SampleName, \"_R\", mtd2$Index, \"_001.fastq.gz\")\n",
    "\n",
    "# replace SRA fastq file names with original fastq file names\n",
    "file.rename(from = names2[[\"Run\"]], to = names2[[\"SampleName\"]])"
   ]
  },
  {
   "cell_type": "markdown",
   "metadata": {},
   "source": [
    "##  Download SILVA132 reference sequences and taxonomy"
   ]
  },
  {
   "cell_type": "code",
   "execution_count": null,
   "metadata": {},
   "outputs": [],
   "source": [
    "# Download SILVA132\n",
    "wget -P data/reference https://www.arb-silva.de/fileadmin/silva_databases/qiime/Silva_132_release.zip\n",
    "\n",
    "# Decompress and delete the downloaded zip file \n",
    "unzip data/reference/Silva_132_release.zip -d data/reference/silva_132 && rm -f data/reference/Silva_132_release.zip\n",
    "\n",
    "# Copy and rename the reference sequence and taxonomy file\n",
    "cp data/reference/silva_132/SILVA_132_QIIME_release/rep_set/rep_set_16S_only/99/silva_132_99_16S.fna data/reference\n",
    "cp data/reference/silva_132/SILVA_132_QIIME_release/taxonomy/16S_only/99/consensus_taxonomy_7_levels.txt data/reference\n",
    "mv data/reference/consensus_taxonomy_7_levels.txt data/reference/silva_132_consensus_taxonomy_l7.txt\n",
    "\n",
    "# Delete data to free up disk space\n",
    "rm -rf data/reference/silva_132"
   ]
  },
  {
   "cell_type": "markdown",
   "metadata": {},
   "source": [
    "##  Download SILVA128 reference phylogenetic tree"
   ]
  },
  {
   "cell_type": "code",
   "execution_count": null,
   "metadata": {},
   "outputs": [],
   "source": [
    "wget -P data/reference https://data.qiime2.org/2020.11/common/sepp-refs-silva-128.qza"
   ]
  }
 ],
 "metadata": {
  "kernelspec": {
   "display_name": "Python 3",
   "language": "python",
   "name": "python3"
  },
  "language_info": {
   "codemirror_mode": {
    "name": "ipython",
    "version": 3
   },
   "file_extension": ".py",
   "mimetype": "text/x-python",
   "name": "python",
   "nbconvert_exporter": "python",
   "pygments_lexer": "ipython3",
   "version": "3.6.12"
  }
 },
 "nbformat": 4,
 "nbformat_minor": 4
}
