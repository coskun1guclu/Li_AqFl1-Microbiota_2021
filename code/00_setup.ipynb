{
 "cells": [
  {
   "cell_type": "markdown",
   "metadata": {},
   "source": [
    "# Setup\n",
    "**Environment:** qiime2-2020.11"
   ]
  },
  {
   "cell_type": "markdown",
   "metadata": {},
   "source": [
    "## How to use this notebook:\n",
    "1. [Add R kernel](https://irkernel.github.io/installation/#binary-panel) to jupyter notebook\n",
    "\n",
    "\n",
    "2. Activate qiime2 conda environment\n",
    "   ```\n",
    "   conda activate qiime2-2020.11 \n",
    "   ```\n",
    "    \n",
    "3. Launch Jupyter notebook\n",
    "   ```\n",
    "   jupyter notebook\n",
    "   ```  "
   ]
  },
  {
   "cell_type": "code",
   "execution_count": null,
   "metadata": {},
   "outputs": [],
   "source": [
    "# change working directory to the project root directory\n",
    "%cd .."
   ]
  },
  {
   "cell_type": "markdown",
   "metadata": {},
   "source": [
    "##  Download SILVA132 reference sequences and taxonomy"
   ]
  },
  {
   "cell_type": "code",
   "execution_count": null,
   "metadata": {},
   "outputs": [],
   "source": [
    "# Download SILVA132\n",
    "!wget -P data/reference https://www.arb-silva.de/fileadmin/silva_databases/qiime/Silva_132_release.zip\n",
    "\n",
    "# Decompress and delete the downloaded zip file \n",
    "!unzip data/reference/Silva_132_release.zip -d data/reference/silva_132 && rm -f data/reference/Silva_132_release.zip\n",
    "\n",
    "# Copy and rename the reference sequence and taxonomy file\n",
    "!cp data/reference/silva_132/SILVA_132_QIIME_release/rep_set/rep_set_16S_only/99/silva_132_99_16S.fna data/reference\n",
    "!cp data/reference/silva_132/SILVA_132_QIIME_release/taxonomy/16S_only/99/consensus_taxonomy_7_levels.txt data/reference\n",
    "!mv data/reference/consensus_taxonomy_7_levels.txt data/reference/silva_132_consensus_taxonomy_l7.txt\n",
    "\n",
    "# Delete data to free up disk space\n",
    "!rm -rf data/reference/silva_132"
   ]
  },
  {
   "cell_type": "markdown",
   "metadata": {},
   "source": [
    "##  Download SILVA128 reference phylogeny"
   ]
  },
  {
   "cell_type": "code",
   "execution_count": null,
   "metadata": {
    "scrolled": true
   },
   "outputs": [],
   "source": [
    "!wget -P data/reference https://data.qiime2.org/2020.11/common/sepp-refs-silva-128.qza"
   ]
  },
  {
   "cell_type": "markdown",
   "metadata": {},
   "source": [
    "##  Download raw sequence data from NCBI SRA database"
   ]
  },
  {
   "cell_type": "markdown",
   "metadata": {},
   "source": [
    "###  Download sequence using grabseqs"
   ]
  },
  {
   "cell_type": "code",
   "execution_count": null,
   "metadata": {},
   "outputs": [],
   "source": [
    "# run1; change the number of threads to use (-t) based on the available resources in your local computer\n",
    "!grabseqs sra $(cat data/raw/casava-18-paired-end-demultiplexed-run1/SRR_Acc_Run1.txt) -m metadata.csv -o data/raw/casava-18-paired-end-demultiplexed-run1/ -r 3 -t 16\n",
    "\n",
    "# run2; change the number of threads to use (-t) based on the available resources in your local computer\n",
    "!grabseqs sra $(cat data/raw/casava-18-paired-end-demultiplexed-run2/SRR_Acc_Run2.txt) -m metadata.csv -o data/raw/casava-18-paired-end-demultiplexed-run2/ -r 3 -t 16"
   ]
  },
  {
   "cell_type": "markdown",
   "metadata": {},
   "source": [
    "### Rename downloaded fastq files"
   ]
  },
  {
   "cell_type": "code",
   "execution_count": null,
   "metadata": {},
   "outputs": [],
   "source": [
    "# R script. Switch to R kernel when running this cell\n",
    "    \n",
    "# change working directory to the project root directory\n",
    "setwd('..')\n",
    "\n",
    "# run1 ######################################################################################################## \n",
    "# file path\n",
    "path1 <- \"data/raw/casava-18-paired-end-demultiplexed-run1/\"\n",
    "\n",
    "# metadata\n",
    "mtd1 <- read.csv(paste0(path1, \"metadata.csv\"))\n",
    "\n",
    "# make a lookup table for renaming fastq files\n",
    "## 1.select column \"Run\" and \"SampleName\" \n",
    "lookup1 <- mtd1[, c(\"Run\", \"SampleName\")] \n",
    "\n",
    "## 2.duplicate samples (rows)\n",
    "lookup1 <- lookup1[rep(seq_len(nrow(lookup1)), each = 2), ] \n",
    "\n",
    "## 3.add forward and reverse read index\n",
    "lookup1$Index <- rep(1:2, nrow(mtd1))\n",
    "\n",
    "## 4.make original file names \n",
    "lookup1$Run <- paste0(path1, lookup1$Run, \"_\", lookup1$Index, \".fastq.gz\")\n",
    "\n",
    "## 5.make desired file names \n",
    "lookup1$SampleName <- paste0(path1, lookup1$SampleName, \"_R\", lookup1$Index, \"_001.fastq.gz\") \n",
    "\n",
    "# rename fastq files\n",
    "file.rename(from = lookup1[[\"Run\"]], to = lookup1[[\"SampleName\"]])\n",
    "\n",
    "# run2 ########################################################################################################\n",
    "# file path\n",
    "path2 <- \"data/raw/casava-18-paired-end-demultiplexed-run2/\"\n",
    "\n",
    "# metadata\n",
    "mtd2 <- read.csv(paste0(path2, \"metadata.csv\"))\n",
    "\n",
    "# lookup table for renaming fastq files\n",
    "lookup2 <- mtd2[, c(\"Run\", \"SampleName\")] \n",
    "lookup2 <- lookup2[rep(seq_len(nrow(lookup2)), each = 2), ] \n",
    "lookup2$Index <- rep(1:2, nrow(mtd2))\n",
    "lookup2$Run <- paste0(path2, lookup2$Run, \"_\", lookup2$Index, \".fastq.gz\")\n",
    "lookup2$SampleName <- paste0(path2, lookup2$SampleName, \"_R\", lookup2$Index, \"_001.fastq.gz\") \n",
    "\n",
    "# rename fastq files\n",
    "file.rename(from = lookup2[[\"Run\"]], to = lookup2[[\"SampleName\"]])"
   ]
  }
 ],
 "metadata": {
  "kernelspec": {
   "display_name": "Python 3",
   "language": "python",
   "name": "python3"
  },
  "language_info": {
   "codemirror_mode": {
    "name": "ipython",
    "version": 3
   },
   "file_extension": ".py",
   "mimetype": "text/x-python",
   "name": "python",
   "nbconvert_exporter": "python",
   "pygments_lexer": "ipython3",
   "version": "3.8.8"
  }
 },
 "nbformat": 4,
 "nbformat_minor": 4
}
